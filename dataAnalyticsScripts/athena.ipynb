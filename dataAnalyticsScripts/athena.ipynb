{
 "cells": [
  {
   "cell_type": "code",
   "execution_count": null,
   "metadata": {},
   "outputs": [],
   "source": [
    "# genera"
   ]
  },
  {
   "attachments": {},
   "cell_type": "markdown",
   "metadata": {},
   "source": [
    "Some scripts to run data collected in and S3 bucket in csv format in pyspark."
   ]
  },
  {
   "attachments": {},
   "cell_type": "markdown",
   "metadata": {},
   "source": [
    "## PySpark \n",
    "For PySpark, enter your Python code in the cell below. You can run the cell by hitting \"Run\" from the above toolbar. Example Python code: <br>\n"
   ]
  },
  {
   "attachments": {},
   "cell_type": "markdown",
   "metadata": {},
   "source": []
  },
  {
   "cell_type": "code",
   "execution_count": null,
   "metadata": {},
   "outputs": [],
   "source": [
    "print(\"hello world\")"
   ]
  },
  {
   "attachments": {},
   "cell_type": "markdown",
   "metadata": {},
   "source": [
    "## Spark SQL\n",
    "Enter %%sql in the first line and your SQL query in subsquent lines. You can run the query by hitting \"Run\" from the above toolbar. Example SQL query (you will need to replace &lt;database&gt; and &lt;table&gt; with your specific database and table): <br>\n"
   ]
  },
  {
   "cell_type": "code",
   "execution_count": null,
   "metadata": {},
   "outputs": [],
   "source": [
    "df = spark.read \\\n",
    "    .option(\"header\", \"true\") \\\n",
    "    .option(\"inferSchema\", \"true\") \\\n",
    "    .csv('s3a://covid19-dataanalytics-mulder/data/time_series_covid19_confirmed_global.csv')\n"
   ]
  },
  {
   "cell_type": "code",
   "execution_count": null,
   "metadata": {},
   "outputs": [],
   "source": [
    "numeric_features = [t[0] for t in df.dtypes if t[1] == 'int' or t[1] == 'double']\n",
    "df.select(numeric_features).toPandas().corr()\n"
   ]
  },
  {
   "cell_type": "code",
   "execution_count": null,
   "metadata": {},
   "outputs": [],
   "source": [
    "pandas_df = df.toPandas()\n"
   ]
  },
  {
   "cell_type": "code",
   "execution_count": null,
   "metadata": {},
   "outputs": [],
   "source": [
    "pandas_df.describe()"
   ]
  },
  {
   "cell_type": "code",
   "execution_count": null,
   "metadata": {},
   "outputs": [],
   "source": [
    "china_df = pandas_df[pandas_df[\"Country/Region\"] == \"China\"]"
   ]
  },
  {
   "cell_type": "code",
   "execution_count": null,
   "metadata": {},
   "outputs": [],
   "source": [
    "china_df.describe()"
   ]
  },
  {
   "cell_type": "code",
   "execution_count": null,
   "metadata": {},
   "outputs": [],
   "source": [
    "import matplotlib.pyplot as plt\n",
    "import pandas as pd\n",
    "\n",
    "df_melted = china_df.melt(id_vars=[\"Province/State\", \"Country/Region\", \"Lat\", \"Long\"],\n",
    "                    var_name=\"Date\",\n",
    "                    value_name=\"Cases\")\n",
    "df_melted['Date'] = pd.to_datetime(df_melted['Date'])\n",
    "\n",
    "# Total Cases Over Time\n",
    "total_cases_over_time = df_melted.groupby('Date').sum()['Cases']\n",
    "plt.figure(figsize=(12,6))\n",
    "total_cases_over_time.plot()\n",
    "plt.title('Total COVID-19 Cases Over Time in China')\n",
    "plt.xlabel('Date')\n",
    "plt.ylabel('Total Cases')\n",
    "plt.show()\n",
    "\n",
    "sample_provinces = df_melted[df_melted['Province/State'].isin(['Anhui', 'Beijing', 'Hubei'])]\n",
    "province_cases_over_time = sample_provinces.pivot_table(index='Date', columns='Province/State', values='Cases')\n",
    "province_cases_over_time.plot(figsize=(12,6))\n",
    "plt.title('COVID-19 Cases Over Time in Selected Provinces of China')\n",
    "plt.xlabel('Date')\n",
    "plt.ylabel('Number of Cases')\n",
    "plt.show()\n"
   ]
  },
  {
   "cell_type": "code",
   "execution_count": null,
   "metadata": {},
   "outputs": [],
   "source": [
    "import pandas as pd\n",
    "import matplotlib.pyplot as plt\n",
    "\n",
    "df_melted['Cases'] = pd.to_numeric(df_melted['Cases'], errors='coerce')\n",
    "df_melted['Date'] = pd.to_datetime(df_melted['Date'], errors='coerce')\n",
    "\n",
    "df_melted.dropna(subset=['Cases', 'Date'], inplace=True)\n",
    "\n",
    "total_cases_over_time = df_melted.groupby('Date').sum()['Cases']\n",
    "plt.figure(figsize=(12,6))\n",
    "total_cases_over_time.plot()\n",
    "plt.title('Total COVID-19 Cases Over Time in China')\n",
    "plt.xlabel('Date')\n",
    "plt.ylabel('Total Cases')\n",
    "plt.show()\n",
    "u\n",
    "\n",
    "sample_provinces = df_melted[df_melted['Province/State'].isin(['Anhui', 'Beijing', 'Hubei'])]\n",
    "province_cases_over_time = sample_provinces.pivot_table(index='Date', columns='Province/State', values='Cases')\n",
    "province_cases_over_time.plot(figsize=(12,6))\n",
    "plt.title('COVID-19 Cases Over Time in Selected Provinces of China')\n",
    "plt.xlabel('Date')\n",
    "plt.ylabel('Number of Cases')\n",
    "plt.show()\n",
    "%matplot plt"
   ]
  },
  {
   "attachments": {},
   "cell_type": "markdown",
   "metadata": {},
   "source": [
    "![Local Image](./assets/china-covid.png)"
   ]
  },
  {
   "cell_type": "code",
   "execution_count": null,
   "metadata": {},
   "outputs": [],
   "source": [
    "mexico_df = pandas_df[pandas_df[\"Country/Region\"] == \"Mexico\"]\n",
    "df_melted_mexico = mexico_df.melt(id_vars=[\"Province/State\", \"Country/Region\", \"Lat\", \"Long\"],\n",
    "                    var_name=\"Date\",\n",
    "                    value_name=\"Cases\")\n"
   ]
  },
  {
   "cell_type": "code",
   "execution_count": null,
   "metadata": {},
   "outputs": [],
   "source": [
    "import matplotlib.pyplot as plt\n",
    "\n",
    "df_melted_mexico['derivative'] = df_melted_mexico['Cases'].diff()\n",
    "\n",
    "plt.figure(figsize=(15, 7))\n",
    "\n",
    "plt.plot(df_melted_mexico['Date'], df_melted_mexico['Cases'], label='Total Cases', color='blue')\n",
    "\n",
    "plt.plot(df_melted_mexico['Date'], df_melted_mexico['derivative']*50, label='Daily Changes in Cases', color='red')\n",
    "\n",
    "plt.xlabel('Date')\n",
    "plt.ylabel('Number of Cases')\n",
    "plt.title('COVID-19 Total Cases and Daily Changes in Mexico')\n",
    "\n",
    "plt.legend()\n",
    "\n",
    "plt.show()\n",
    "\n",
    "%matplot plt"
   ]
  },
  {
   "attachments": {},
   "cell_type": "markdown",
   "metadata": {},
   "source": [
    "![Local Image](./assets/mexico_covid.png)"
   ]
  },
  {
   "attachments": {},
   "cell_type": "markdown",
   "metadata": {},
   "source": []
  }
 ],
 "metadata": {
  "language_info": {
   "name": "python"
  },
  "orig_nbformat": 4
 },
 "nbformat": 4,
 "nbformat_minor": 2
}
